{
 "cells": [
  {
   "cell_type": "code",
   "execution_count": null,
   "metadata": {},
   "outputs": [],
   "source": [
    "from __future__ import print_function\n",
    "import pickle\n",
    "import pandas as pd\n",
    "import re\n",
    "import numpy as np\n",
    "import random\n",
    "import matplotlib.pyplot as plt\n",
    "import seaborn as sns\n",
    "import pyensae\n",
    "import matplotlib.pyplot as plt\n",
    "from pyensae.graphhelper import Corrplot\n",
    "from sklearn.manifold import TSNE\n",
    "from sklearn.decomposition import PCA\n",
    "#plt.style.use('ggplot')"
   ]
  },
  {
   "cell_type": "code",
   "execution_count": null,
   "metadata": {},
   "outputs": [],
   "source": [
    "# read sample data \n",
    "processed_data = pickle.load( open( \"result_04_processed_data_no_scale_Final.obj\", \"rb\" ) )\n",
    "cytof_files = processed_data[\"cytof_files\"]\n",
    "expr_list = processed_data[\"expr_list\"]\n",
    "coln = processed_data[\"marker_names\"]"
   ]
  },
  {
   "cell_type": "code",
   "execution_count": null,
   "metadata": {},
   "outputs": [],
   "source": [
    "# prepare subject data\n",
    "subject_df = cytof_files[['subject_accession','study_accession']]\n",
    "subject_df = subject_df.drop_duplicates()\n",
    "subject_df[\"presence\"] = 1\n",
    "subject_df = subject_df.pivot(index='subject_accession',\n",
    "                              columns='study_accession',\n",
    "                              values='presence')\n",
    "subject_df = subject_df.fillna(0)\n",
    "subject_df.columns.name = None\n",
    "subject_df = subject_df.reset_index()"
   ]
  },
  {
   "cell_type": "code",
   "execution_count": null,
   "metadata": {},
   "outputs": [],
   "source": [
    "# find overlap between studies\n",
    "subject_mx = subject_df.drop(\"subject_accession\",axis=1)\n",
    "col = subject_mx.columns\n",
    "subject_mx = subject_mx.values\n",
    "overlap = np.dot(subject_mx.transpose(),subject_mx)\n",
    "total = np.sum(subject_mx,axis=0)\n",
    "total = total.reshape([total.shape[0],1])\n",
    "total = np.repeat(total,total.shape[0] , axis=1)\n",
    "union = np.add(total.transpose(),total)\n",
    "union = np.subtract(union, overlap)\n",
    "overlap = np.divide(overlap,union)\n",
    "overlap = pd.DataFrame(overlap)\n",
    "overlap.columns = col\n",
    "overlap.index = col"
   ]
  },
  {
   "cell_type": "code",
   "execution_count": null,
   "metadata": {},
   "outputs": [],
   "source": [
    "# plot overlap\n",
    "c = Corrplot(overlap)\n",
    "p = c.plot(method =\"circle\",binarise_color=True)\n",
    "p.get_figure()\n",
    "plt.savefig(\"result_07_subject_overlap.pdf\")"
   ]
  },
  {
   "cell_type": "code",
   "execution_count": null,
   "metadata": {},
   "outputs": [],
   "source": []
  },
  {
   "cell_type": "code",
   "execution_count": null,
   "metadata": {},
   "outputs": [],
   "source": [
    "# plot age\n",
    "x = cytof_files.shape[0]\n",
    "train_id = [i for i in range(x) if cytof_files.study_accession.iloc[i] not in [\"SDY515\",\"SDY519\"]]\n",
    "valid_id = [i for i in range(x) if cytof_files.study_accession.iloc[i]==\"SDY515\"]\n",
    "test_id = [i for i in range(x) if cytof_files.study_accession.iloc[i]==\"SDY519\"]\n",
    "cytof_files[\"group\"] = [\"\"]*x\n",
    "cytof_files.group.iloc[valid_id]=cytof_files.group.iloc[valid_id]+\"validation\"\n",
    "cytof_files.group.iloc[test_id]=cytof_files.group.iloc[test_id]+\"test\"\n",
    "cytof_files.group.iloc[train_id]=cytof_files.group.iloc[train_id]+\"train\"\n",
    "\n",
    "sns.stripplot(x=\"group\", y=\"age\", data=cytof_files,\n",
    "              size=4, jitter=True, edgecolor=\"gray\")\n",
    "plt.show()"
   ]
  },
  {
   "cell_type": "code",
   "execution_count": null,
   "metadata": {},
   "outputs": [],
   "source": [
    "# plot CMV proportion\n",
    "CMV_df = cytof_files.loc[:,[\"CMV_Ab\",\"group\"]]\n",
    "CMV_df.CMV_Ab = CMV_df.CMV_Ab>2\n",
    "CMV_df_group = CMV_df.groupby([\"group\"]).size().reset_index(name='group_counts')\n",
    "CMV_df = CMV_df.groupby([\"group\",\"CMV_Ab\"]).size().reset_index(name='counts')\n",
    "CMV_df = CMV_df.merge(CMV_df_group ,on=[\"group\"]).reset_index()\n",
    "CMV_df[\"percent\"] = CMV_df.counts/CMV_df.group_counts*100\n",
    "display(CMV_df)\n",
    "pivot_df = CMV_df.pivot(index='group', columns='CMV_Ab', values='percent')\n",
    "p = pivot_df.loc[[\"train\",\"validation\",\"test\"],:].plot.bar(stacked=True)\n",
    "p.get_figure()\n",
    "plt.savefig(\"result_07_CMV_percent.pdf\")"
   ]
  },
  {
   "cell_type": "code",
   "execution_count": null,
   "metadata": {},
   "outputs": [],
   "source": [
    "# identify studies for cytof data\n",
    "expr_df = expr_list.reshape(expr_list.shape[0:3])\n",
    "expr_df = expr_df.reshape([expr_df.shape[0]*expr_df.shape[1],\n",
    "                           expr_df.shape[2]])\n",
    "expr_df = pd.DataFrame(expr_df)\n",
    "expr_df[\"file_info_id\"] = (cytof_files.file_info_id.\n",
    "                           repeat(expr_list.shape[1]).values)\n",
    "expr_df[\"study_accession\"] = (cytof_files.study_accession.\n",
    "                           repeat(expr_list.shape[1]).values)\n",
    "expr_df[\"group\"] = (cytof_files.group.\n",
    "                           repeat(expr_list.shape[1]).values)\n",
    "expr_df.columns = np.append(coln.values,\n",
    "                            [\"file_info_id\",\"study_accession\",\"group\"])"
   ]
  },
  {
   "cell_type": "code",
   "execution_count": null,
   "metadata": {},
   "outputs": [],
   "source": [
    "# plot batch effect\n",
    "B_df = expr_df[(expr_df.study_accession.isin([\"SDY315\",\"SDY311\"]))]\n",
    "B_df = B_df.sample(5000)\n",
    "\n",
    "Bx = B_df.drop([\"file_info_id\",\"study_accession\",\"group\"],axis=1).values\n",
    "#X_embedded = TSNE(n_components=2).fit_transform(Bx)\n",
    "#print(X_embedded.shape)\n",
    "\n",
    "X_embedded = PCA(n_components=2).fit(Bx).transform(Bx)\n",
    "plt.figure(figsize=(5, 5))\n",
    "\n",
    "p = sns.scatterplot(x=X_embedded[:,0], y=X_embedded[:,1], \n",
    "                hue=B_df.study_accession,s = 15)\n",
    "p.get_figure()\n",
    "plt.savefig(\"result_07_PCA.pdf\")\n"
   ]
  },
  {
   "cell_type": "code",
   "execution_count": null,
   "metadata": {},
   "outputs": [],
   "source": []
  },
  {
   "cell_type": "code",
   "execution_count": null,
   "metadata": {},
   "outputs": [],
   "source": []
  },
  {
   "cell_type": "code",
   "execution_count": null,
   "metadata": {},
   "outputs": [],
   "source": []
  },
  {
   "cell_type": "code",
   "execution_count": null,
   "metadata": {},
   "outputs": [],
   "source": [
    "# plot ROC curve\n",
    "print(__doc__)\n",
    "\n",
    "import numpy as np\n",
    "import matplotlib.pyplot as plt\n",
    "from sklearn import svm, datasets\n",
    "from sklearn.metrics import roc_curve, auc\n",
    "from sklearn.model_selection import train_test_split\n",
    "from sklearn.preprocessing import label_binarize\n",
    "from sklearn.multiclass import OneVsRestClassifier\n",
    "\n",
    "\n",
    "\n",
    "# Plot of a ROC curve for a specific class\n",
    "plt.figure(figsize=(5,5))\n",
    "\n",
    "roc1 = pickle.load( open( \"result_05_deep_learning_ROC.obj\", \"rb\" ) )\n",
    "fpr, tpr, _ = roc_curve(roc1[\"true\"], roc1[\"score\"])\n",
    "roc_auc1 = auc(fpr, tpr)\n",
    "plt.plot(fpr, tpr, label='CNN (AUC = %0.2f)' % roc_auc1)\n",
    "\n",
    "roc1_2 = pickle.load( open( \"result_09_deep_learning_ROC.obj\", \"rb\" ) )\n",
    "fpr, tpr, _ = roc_curve(roc1_2[\"true\"], roc1_2[\"score\"])\n",
    "roc_auc2 = auc(fpr, tpr)\n",
    "plt.plot(fpr, tpr, label='CNN + demographics (AUC = %0.2f)' % roc_auc2)\n",
    "\n",
    "\n",
    "roc4 = pickle.load( open( \"result_08_10k_RF_ROC.obj\", \"rb\" ) )\n",
    "fpr, tpr, _ = roc_curve(roc4[\"true\"], roc4[\"score\"])\n",
    "roc_auc4 = auc(fpr, tpr)\n",
    "plt.plot(fpr, tpr, label='Gating Result + RandomForest  (AUC = %0.2f)' % roc_auc4)\n",
    "\n",
    "roc5 = pickle.load( open( \"result_08_flowSOM_RF_ROC.obj\", \"rb\" ) )\n",
    "fpr, tpr, _ = roc_curve(roc5[\"true\"], roc5[\"score\"])\n",
    "roc_auc5 = auc(fpr, tpr)\n",
    "plt.plot(fpr, tpr, label='FlowSOM + RandomForest  (AUC = %0.2f)' % roc_auc5)\n",
    "\n",
    "\n",
    "plt.plot([0, 1], [0, 1], 'k--')\n",
    "plt.xlim([0.0, 1.0])\n",
    "plt.ylim([0.0, 1.05])\n",
    "plt.xlabel('False Positive Rate')\n",
    "plt.ylabel('True Positive Rate')\n",
    "plt.title('Receiver Operating Characteristic Curve')\n",
    "plt.legend(loc=\"lower right\")\n",
    "#plt.show()\n",
    "plt.savefig(\"result_07_AUCs.pdf\")\n",
    "\n",
    "\n",
    "auc_df = {\"x\":[\"CNN\",\"CNN + demographics\",\"CD8+ Effector T cells\",\n",
    "                \"Gating Result + RandomForest\",\"FlowSOM + RandomForest\"],\n",
    "             \"AUC\": [roc_auc1,roc_auc2,roc_auc3,roc_auc4,roc_auc5]}\n"
   ]
  },
  {
   "cell_type": "code",
   "execution_count": null,
   "metadata": {},
   "outputs": [],
   "source": [
    "# permutation test\n",
    "pv = []\n",
    "for i in range(100000):\n",
    "    r1 = np.random.choice(roc1[\"true\"].shape[0],replace=True,size=roc1[\"true\"].shape[0])\n",
    "    t1 = roc1[\"true\"][r1]\n",
    "    s1 = roc1[\"score\"][r1]\n",
    "    fpr, tpr, _ = roc_curve(t1, s1)\n",
    "    roc_auc_1 = auc(fpr, tpr)\n",
    "        \n",
    "    r2 = np.random.choice(roc5[\"true\"].shape[0],replace=True,size=roc5[\"true\"].shape[0])\n",
    "    t2 = roc5[\"true\"][r2]\n",
    "    s2 = roc5[\"score\"][r2]\n",
    "    fpr, tpr, _ = roc_curve(t2, s2)\n",
    "    roc_auc_2 = auc(fpr, tpr)\n",
    "        \n",
    "    pv = pv + [roc_auc_1 > roc_auc_2]\n",
    "\n",
    "1 - sum(pv)/len(pv)\n",
    "# pre-calulated result = 0.00016"
   ]
  },
  {
   "cell_type": "code",
   "execution_count": null,
   "metadata": {},
   "outputs": [],
   "source": []
  },
  {
   "cell_type": "code",
   "execution_count": null,
   "metadata": {},
   "outputs": [],
   "source": [
    "# plot precision recall curve\n",
    "\n",
    "from sklearn.metrics import precision_recall_curve\n",
    "from sklearn.metrics import average_precision_score\n",
    "\n",
    "# Plot of a ROC curve for a specific class\n",
    "plt.figure(figsize=(5,5))\n",
    "\n",
    "roc1 = pickle.load( open( \"result_05_deep_learning_ROC.obj\", \"rb\" ) )\n",
    "fpr, tpr, _ = precision_recall_curve(roc1[\"true\"], roc1[\"score\"])\n",
    "roc_auc = average_precision_score(roc1[\"true\"], roc1[\"score\"])\n",
    "plt.plot(tpr, fpr, label='CNN (AUC = %0.2f)' % roc_auc)\n",
    "\n",
    "roc1_2 = pickle.load( open( \"result_09_deep_learning_ROC.obj\", \"rb\" ) )\n",
    "fpr, tpr, _ = precision_recall_curve(roc1_2[\"true\"], roc1_2[\"score\"])\n",
    "roc_auc = average_precision_score(roc1_2[\"true\"], roc1_2[\"score\"])\n",
    "plt.plot(tpr, fpr, label='CNN + demographics (AUC = %0.2f)' % roc_auc)\n",
    "\n",
    "\n",
    "roc4 = pickle.load( open( \"result_06=8_10k_RF_ROC.obj\", \"rb\" ) )\n",
    "fpr, tpr, _ = precision_recall_curve(roc4[\"true\"], roc4[\"score\"])\n",
    "roc_auc = average_precision_score(roc4[\"true\"], roc4[\"score\"])\n",
    "plt.plot(tpr, fpr, label='Gating Result + RandomForest  (AUC = %0.2f)' % roc_auc)\n",
    "\n",
    "roc5 = pickle.load( open( \"result_08_flowSOM_RF_ROC.obj\", \"rb\" ) )\n",
    "fpr, tpr, _ = precision_recall_curve(roc5[\"true\"], roc5[\"score\"])\n",
    "roc_auc = average_precision_score(roc5[\"true\"], roc5[\"score\"])\n",
    "plt.plot(tpr, fpr, label='FlowSOM + RandomForest  (AUC = %0.2f)' % roc_auc)\n",
    "\n",
    "\n",
    "#plt.plot([0, 1], [0, 1], 'k--')\n",
    "plt.xlim([0.0, 1.0])\n",
    "plt.ylim([0.0, 1.05])\n",
    "plt.xlabel('Recall')\n",
    "plt.ylabel('Precision')\n",
    "plt.title('Precision Recall Curve')\n",
    "plt.legend(loc=\"lower right\")\n",
    "#plt.show()\n",
    "plt.savefig(\"result_07_AUCs_RP.pdf\")"
   ]
  },
  {
   "cell_type": "code",
   "execution_count": null,
   "metadata": {},
   "outputs": [],
   "source": [
    "# permutation test\n",
    "pv = []\n",
    "for i in range(100000):\n",
    "    r1 = np.random.choice(roc1[\"true\"].shape[0],replace=True,size=roc1[\"true\"].shape[0])\n",
    "    t1 = roc1[\"true\"][r1]\n",
    "    s1 = roc1[\"score\"][r1]\n",
    "    roc_auc_1 = average_precision_score(roc1[\"true\"], roc1[\"score\"])\n",
    "        \n",
    "    r2 = np.random.choice(roc5[\"true\"].shape[0],replace=True,size=roc5[\"true\"].shape[0])\n",
    "    t2 = roc5[\"true\"][r2]\n",
    "    s2 = roc5[\"score\"][r2]\n",
    "    roc_auc_2 = average_precision_score(roc5[\"true\"], roc5[\"score\"])\n",
    "        \n",
    "    pv = pv + [roc_auc_1 > roc_auc_2]\n",
    "\n",
    "1 - sum(pv)/len(pv)"
   ]
  },
  {
   "cell_type": "code",
   "execution_count": null,
   "metadata": {},
   "outputs": [],
   "source": []
  },
  {
   "cell_type": "code",
   "execution_count": null,
   "metadata": {},
   "outputs": [],
   "source": []
  },
  {
   "cell_type": "code",
   "execution_count": null,
   "metadata": {},
   "outputs": [],
   "source": []
  },
  {
   "cell_type": "code",
   "execution_count": null,
   "metadata": {},
   "outputs": [],
   "source": []
  },
  {
   "cell_type": "code",
   "execution_count": null,
   "metadata": {},
   "outputs": [],
   "source": []
  },
  {
   "cell_type": "code",
   "execution_count": null,
   "metadata": {},
   "outputs": [],
   "source": []
  }
 ],
 "metadata": {
  "kernelspec": {
   "display_name": "CyTOF_DL",
   "language": "python",
   "name": "cytof_dl"
  },
  "language_info": {
   "codemirror_mode": {
    "name": "ipython",
    "version": 3
   },
   "file_extension": ".py",
   "mimetype": "text/x-python",
   "name": "python",
   "nbconvert_exporter": "python",
   "pygments_lexer": "ipython3",
   "version": "3.6.7"
  }
 },
 "nbformat": 4,
 "nbformat_minor": 2
}
