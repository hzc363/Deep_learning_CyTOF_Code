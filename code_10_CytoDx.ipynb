{
 "cells": [
  {
   "cell_type": "code",
   "execution_count": 1,
   "metadata": {},
   "outputs": [
    {
     "name": "stderr",
     "output_type": "stream",
     "text": [
      "Registered S3 methods overwritten by 'ggplot2':\n",
      "  method         from \n",
      "  [.quosures     rlang\n",
      "  c.quosures     rlang\n",
      "  print.quosures rlang\n",
      "Registered S3 method overwritten by 'dplyr':\n",
      "  method               from  \n",
      "  as.data.frame.tbl_df tibble\n",
      "\n",
      "Attaching package: ‘dplyr’\n",
      "\n",
      "The following object is masked from ‘package:flowCore’:\n",
      "\n",
      "    filter\n",
      "\n",
      "The following objects are masked from ‘package:stats’:\n",
      "\n",
      "    filter, lag\n",
      "\n",
      "The following objects are masked from ‘package:base’:\n",
      "\n",
      "    intersect, setdiff, setequal, union\n",
      "\n"
     ]
    }
   ],
   "source": [
    "library(\"MetaCyto\")\n",
    "library(flowCore)\n",
    "library(dplyr)\n",
    "library(ggplot2)\n",
    "library(tidyr)\n",
    "library(CytoDx)"
   ]
  },
  {
   "cell_type": "code",
   "execution_count": null,
   "metadata": {},
   "outputs": [],
   "source": []
  },
  {
   "cell_type": "code",
   "execution_count": 2,
   "metadata": {},
   "outputs": [],
   "source": [
    "##### change cell markers #####\n",
    "cytof_files = read.csv(\"result_05_cytof_files.csv\")\n",
    "marker_list = c('VIABILITY',  'TCRGD', 'IGD', 'HLADR', 'DNA2', \n",
    "                'DNA1', 'CELL_LENGTH', 'CD94', 'CD85J', 'CD8', 'CD56', \n",
    "                'CD45RA', 'CD4', 'CD38', 'CD33', 'CD3', 'CD28', 'CD27', 'CD25', \n",
    "                'CD24', 'CD20', 'CD19', 'CD161', 'CD16', 'CD14', 'CD127', 'CCR7')\n",
    "cytof_files = cytof_files%>%filter(!is.na(CMV_Ab))"
   ]
  },
  {
   "cell_type": "code",
   "execution_count": 3,
   "metadata": {},
   "outputs": [],
   "source": [
    "if(FALSE){\n",
    "    dir.create(\"standard_fcs\")\n",
    "for(i in 1:nrow(cytof_files)){\n",
    "    f = read.FCS(file.path(\"CyTOF_data\",cytof_files$name[i]))\n",
    "    cn = MetaCyto::markerFinder(f)\n",
    "    cn = gsub('DEAD','VIABILITY',cn)\n",
    "    cn = gsub('EVENT_LENGTH','CELL_LENGTH',cn)\n",
    "\n",
    "    expr = exprs(f)\n",
    "    colnames(expr) = toupper(cn)\n",
    "    if(length(setdiff(marker_list, colnames(expr)))==0){\n",
    "        expr = expr[sample(size = 10000,x = 1:nrow(expr), replace = T),marker_list]\n",
    "        #expr = apply(expr, 2, scale)\n",
    "        expr = flowFrame(expr)\n",
    "        write.FCS(expr,file.path(\"standard_fcs\",cytof_files$name[i]))\n",
    "    }\n",
    "\n",
    "}\n",
    "}\n"
   ]
  },
  {
   "cell_type": "code",
   "execution_count": null,
   "metadata": {},
   "outputs": [],
   "source": []
  },
  {
   "cell_type": "code",
   "execution_count": 4,
   "metadata": {},
   "outputs": [
    {
     "name": "stderr",
     "output_type": "stream",
     "text": [
      "Warning message:\n",
      "“Column `name` joining factors with different levels, coercing to character vector”"
     ]
    }
   ],
   "source": [
    "fileName = list.files(\"standard_fcs\", full.names = T)\n",
    "fileName_core = basename(fileName)\n",
    "t1 = data.frame(name=fileName_core,full_name = fileName)\n",
    "fcs_info = inner_join(cytof_files,t1,by = \"name\")"
   ]
  },
  {
   "cell_type": "code",
   "execution_count": 5,
   "metadata": {},
   "outputs": [],
   "source": [
    "# Find the training data\n",
    "train_info <- subset(fcs_info,!fcs_info$study_accession%in%c(\"SDY515\",\"SDY519\"))\n",
    "\n",
    "# Read cytometry files using fcs2DF function\n",
    "\n",
    "train_data <- fcs2DF(fcsFiles=train_info$full_name,y=(train_info$CMV_Ab>2),\n",
    "                     assay=\"CyTOF\",b=1/5,\n",
    "                     excludeTransformParameters=c(\"FSC-A\",\"FSC-W\",\"FSC-H\",\"Time\",\"CELL_LENGTH\"))\n",
    "x_train <- pRank(x=train_data[,1:27],xSample=train_data$xSample)\n",
    "x_train <- model.matrix(~.*.,x_train)\n",
    "#x_train <- model.matrix(~.,train_data[,1:27])"
   ]
  },
  {
   "cell_type": "code",
   "execution_count": 6,
   "metadata": {},
   "outputs": [],
   "source": [
    "# Build predictive model using the CytoDx.fit function\n",
    "fit <- CytoDx.fit(x=x_train,\n",
    "                  y=(train_data$y*1),\n",
    "                  xSample=train_data$xSample,\n",
    "                  family = \"binomial\",reg = F)"
   ]
  },
  {
   "cell_type": "code",
   "execution_count": 7,
   "metadata": {},
   "outputs": [],
   "source": [
    "# Find the test data\n",
    "test_info <- subset(fcs_info,fcs_info$study_accession%in%c(\"SDY519\"))\n",
    "\n",
    "# Read cytometry files using fcs2DF function\n",
    "\n",
    "test_data <- fcs2DF(fcsFiles=test_info$full_name,y=(test_info$CMV_Ab>2),\n",
    "                     assay=\"CyTOF\",b=1/5,\n",
    "                     excludeTransformParameters=c(\"FSC-A\",\"FSC-W\",\"FSC-H\",\"Time\",\"CELL_LENGTH\"))\n",
    "x_test <- pRank(x=test_data[,1:27],xSample=test_data$xSample)\n",
    "x_test <- model.matrix(~.*.,x_test)\n",
    "#x_test <- model.matrix(~.,test_data[,1:27])"
   ]
  },
  {
   "cell_type": "code",
   "execution_count": 8,
   "metadata": {},
   "outputs": [],
   "source": [
    "pred <- CytoDx.pred(fit,xNew=x_test,xSampleNew=test_data$xSample)"
   ]
  },
  {
   "cell_type": "code",
   "execution_count": 9,
   "metadata": {},
   "outputs": [
    {
     "data": {
      "text/html": [
       "<table>\n",
       "<thead><tr><th></th><th scope=col>sample</th><th scope=col>y.Pred.s0</th></tr></thead>\n",
       "<tbody>\n",
       "\t<tr><th scope=row>standard_fcs/072212-Study18-11-18214_cct.523255.fcs</th><td>standard_fcs/072212-Study18-11-18214_cct.523255.fcs                </td><td>0.2641829                                                          </td></tr>\n",
       "\t<tr><th scope=row>standard_fcs/072212-Study18-11-18217_cct.523256.fcs</th><td>standard_fcs/072212-Study18-11-18217_cct.523256.fcs                </td><td>0.2739051                                                          </td></tr>\n",
       "\t<tr><th scope=row>standard_fcs/071712-Mike-Study 18-2011-18173_cells_found.523257.fcs</th><td>standard_fcs/071712-Mike-Study 18-2011-18173_cells_found.523257.fcs</td><td>0.4885349                                                          </td></tr>\n",
       "\t<tr><th scope=row>standard_fcs/072712-Mike-Study 18-2011-18174_cells_found.523258.fcs</th><td>standard_fcs/072712-Mike-Study 18-2011-18174_cells_found.523258.fcs</td><td>0.5791877                                                          </td></tr>\n",
       "\t<tr><th scope=row>standard_fcs/072412-Mike-Study 18-2011-18175_cells_found.523259.fcs</th><td>standard_fcs/072412-Mike-Study 18-2011-18175_cells_found.523259.fcs</td><td>0.2516454                                                          </td></tr>\n",
       "</tbody>\n",
       "</table>\n"
      ],
      "text/latex": [
       "\\begin{tabular}{r|ll}\n",
       "  & sample & y.Pred.s0\\\\\n",
       "\\hline\n",
       "\tstandard\\_fcs/072212-Study18-11-18214\\_cct.523255.fcs & standard\\_fcs/072212-Study18-11-18214\\_cct.523255.fcs                 & 0.2641829                                                              \\\\\n",
       "\tstandard\\_fcs/072212-Study18-11-18217\\_cct.523256.fcs & standard\\_fcs/072212-Study18-11-18217\\_cct.523256.fcs                 & 0.2739051                                                              \\\\\n",
       "\tstandard\\_fcs/071712-Mike-Study 18-2011-18173\\_cells\\_found.523257.fcs & standard\\_fcs/071712-Mike-Study 18-2011-18173\\_cells\\_found.523257.fcs & 0.4885349                                                                \\\\\n",
       "\tstandard\\_fcs/072712-Mike-Study 18-2011-18174\\_cells\\_found.523258.fcs & standard\\_fcs/072712-Mike-Study 18-2011-18174\\_cells\\_found.523258.fcs & 0.5791877                                                                \\\\\n",
       "\tstandard\\_fcs/072412-Mike-Study 18-2011-18175\\_cells\\_found.523259.fcs & standard\\_fcs/072412-Mike-Study 18-2011-18175\\_cells\\_found.523259.fcs & 0.2516454                                                                \\\\\n",
       "\\end{tabular}\n"
      ],
      "text/markdown": [
       "\n",
       "| <!--/--> | sample | y.Pred.s0 | \n",
       "|---|---|---|---|---|\n",
       "| standard_fcs/072212-Study18-11-18214_cct.523255.fcs | standard_fcs/072212-Study18-11-18214_cct.523255.fcs                 | 0.2641829                                                           | \n",
       "| standard_fcs/072212-Study18-11-18217_cct.523256.fcs | standard_fcs/072212-Study18-11-18217_cct.523256.fcs                 | 0.2739051                                                           | \n",
       "| standard_fcs/071712-Mike-Study 18-2011-18173_cells_found.523257.fcs | standard_fcs/071712-Mike-Study 18-2011-18173_cells_found.523257.fcs | 0.4885349                                                           | \n",
       "| standard_fcs/072712-Mike-Study 18-2011-18174_cells_found.523258.fcs | standard_fcs/072712-Mike-Study 18-2011-18174_cells_found.523258.fcs | 0.5791877                                                           | \n",
       "| standard_fcs/072412-Mike-Study 18-2011-18175_cells_found.523259.fcs | standard_fcs/072412-Mike-Study 18-2011-18175_cells_found.523259.fcs | 0.2516454                                                           | \n",
       "\n",
       "\n"
      ],
      "text/plain": [
       "                                                                    sample                                                             \n",
       "standard_fcs/072212-Study18-11-18214_cct.523255.fcs                 standard_fcs/072212-Study18-11-18214_cct.523255.fcs                \n",
       "standard_fcs/072212-Study18-11-18217_cct.523256.fcs                 standard_fcs/072212-Study18-11-18217_cct.523256.fcs                \n",
       "standard_fcs/071712-Mike-Study 18-2011-18173_cells_found.523257.fcs standard_fcs/071712-Mike-Study 18-2011-18173_cells_found.523257.fcs\n",
       "standard_fcs/072712-Mike-Study 18-2011-18174_cells_found.523258.fcs standard_fcs/072712-Mike-Study 18-2011-18174_cells_found.523258.fcs\n",
       "standard_fcs/072412-Mike-Study 18-2011-18175_cells_found.523259.fcs standard_fcs/072412-Mike-Study 18-2011-18175_cells_found.523259.fcs\n",
       "                                                                    y.Pred.s0\n",
       "standard_fcs/072212-Study18-11-18214_cct.523255.fcs                 0.2641829\n",
       "standard_fcs/072212-Study18-11-18217_cct.523256.fcs                 0.2739051\n",
       "standard_fcs/071712-Mike-Study 18-2011-18173_cells_found.523257.fcs 0.4885349\n",
       "standard_fcs/072712-Mike-Study 18-2011-18174_cells_found.523258.fcs 0.5791877\n",
       "standard_fcs/072412-Mike-Study 18-2011-18175_cells_found.523259.fcs 0.2516454"
      ]
     },
     "metadata": {},
     "output_type": "display_data"
    }
   ],
   "source": [
    "pred$xNew.Pred.sample[1:5,]"
   ]
  },
  {
   "cell_type": "code",
   "execution_count": 10,
   "metadata": {},
   "outputs": [
    {
     "name": "stderr",
     "output_type": "stream",
     "text": [
      "Warning message:\n",
      "“Column `full_name`/`sample` joining factors with different levels, coercing to character vector”"
     ]
    }
   ],
   "source": [
    "pred = inner_join(test_info,pred$xNew.Pred.sample,by = c(\"full_name\"=\"sample\"))"
   ]
  },
  {
   "cell_type": "code",
   "execution_count": null,
   "metadata": {},
   "outputs": [],
   "source": []
  },
  {
   "cell_type": "code",
   "execution_count": 11,
   "metadata": {},
   "outputs": [
    {
     "data": {
      "text/plain": [
       "\n",
       "\tWelch Two Sample t-test\n",
       "\n",
       "data:  pred$y.Pred.s0 by pred$CMV_Ab > 2\n",
       "t = -8.3705, df = 65.847, p-value = 5.851e-12\n",
       "alternative hypothesis: true difference in means is not equal to 0\n",
       "95 percent confidence interval:\n",
       " -0.4062630 -0.2497756\n",
       "sample estimates:\n",
       "mean in group FALSE  mean in group TRUE \n",
       "          0.4279952           0.7560145 \n"
      ]
     },
     "metadata": {},
     "output_type": "display_data"
    },
    {
     "data": {
      "image/png": "[encoded data removed]",
      "text/plain": [
       "plot without title"
      ]
     },
     "metadata": {},
     "output_type": "display_data"
    }
   ],
   "source": [
    "boxplot(pred$y.Pred.s0,pred$CMV_Ab>2)\n",
    "t.test(pred$y.Pred.s0~(pred$CMV_Ab>2))"
   ]
  },
  {
   "cell_type": "code",
   "execution_count": 12,
   "metadata": {},
   "outputs": [],
   "source": [
    "t1 = data.frame(prob = pred$y.Pred.s0, truth = pred$CMV_Ab>2)\n",
    "write.csv(t1,\"Result_10_cytodx_text.csv\",row.names=F)"
   ]
  },
  {
   "cell_type": "code",
   "execution_count": null,
   "metadata": {},
   "outputs": [],
   "source": []
  },
  {
   "cell_type": "code",
   "execution_count": null,
   "metadata": {},
   "outputs": [],
   "source": []
  },
  {
   "cell_type": "code",
   "execution_count": null,
   "metadata": {},
   "outputs": [],
   "source": []
  },
  {
   "cell_type": "code",
   "execution_count": null,
   "metadata": {},
   "outputs": [],
   "source": []
  },
  {
   "cell_type": "code",
   "execution_count": null,
   "metadata": {},
   "outputs": [],
   "source": []
  },
  {
   "cell_type": "code",
   "execution_count": null,
   "metadata": {
    "scrolled": true
   },
   "outputs": [],
   "source": []
  },
  {
   "cell_type": "code",
   "execution_count": null,
   "metadata": {},
   "outputs": [],
   "source": []
  },
  {
   "cell_type": "code",
   "execution_count": null,
   "metadata": {},
   "outputs": [],
   "source": []
  },
  {
   "cell_type": "code",
   "execution_count": null,
   "metadata": {},
   "outputs": [],
   "source": [
    "\n"
   ]
  },
  {
   "cell_type": "code",
   "execution_count": null,
   "metadata": {},
   "outputs": [],
   "source": []
  },
  {
   "cell_type": "code",
   "execution_count": null,
   "metadata": {},
   "outputs": [],
   "source": []
  },
  {
   "cell_type": "code",
   "execution_count": null,
   "metadata": {},
   "outputs": [],
   "source": []
  },
  {
   "cell_type": "code",
   "execution_count": null,
   "metadata": {},
   "outputs": [],
   "source": []
  },
  {
   "cell_type": "code",
   "execution_count": null,
   "metadata": {},
   "outputs": [],
   "source": []
  },
  {
   "cell_type": "code",
   "execution_count": null,
   "metadata": {},
   "outputs": [],
   "source": []
  },
  {
   "cell_type": "code",
   "execution_count": null,
   "metadata": {},
   "outputs": [],
   "source": []
  },
  {
   "cell_type": "code",
   "execution_count": null,
   "metadata": {},
   "outputs": [],
   "source": []
  },
  {
   "cell_type": "code",
   "execution_count": null,
   "metadata": {},
   "outputs": [],
   "source": []
  },
  {
   "cell_type": "code",
   "execution_count": null,
   "metadata": {},
   "outputs": [],
   "source": []
  },
  {
   "cell_type": "code",
   "execution_count": null,
   "metadata": {},
   "outputs": [],
   "source": []
  },
  {
   "cell_type": "code",
   "execution_count": null,
   "metadata": {},
   "outputs": [],
   "source": []
  },
  {
   "cell_type": "code",
   "execution_count": null,
   "metadata": {},
   "outputs": [],
   "source": []
  },
  {
   "cell_type": "code",
   "execution_count": null,
   "metadata": {},
   "outputs": [],
   "source": []
  },
  {
   "cell_type": "code",
   "execution_count": null,
   "metadata": {},
   "outputs": [],
   "source": []
  }
 ],
 "metadata": {
  "kernelspec": {
   "display_name": "R",
   "language": "R",
   "name": "ir"
  },
  "language_info": {
   "codemirror_mode": "r",
   "file_extension": ".r",
   "mimetype": "text/x-r-source",
   "name": "R",
   "pygments_lexer": "r",
   "version": "3.6.1"
  }
 },
 "nbformat": 4,
 "nbformat_minor": 1
}
