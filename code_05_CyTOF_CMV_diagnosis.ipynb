{
 "cells": [
  {
   "cell_type": "code",
   "execution_count": null,
   "metadata": {},
   "outputs": [],
   "source": [
    "from __future__ import print_function\n",
    "import keras\n",
    "from keras.datasets import mnist\n",
    "from keras.models import Sequential\n",
    "from keras.layers import Dense, Dropout, Flatten, BatchNormalization, Activation, Concatenate\n",
    "from keras.layers import Conv2D, MaxPooling2D, AveragePooling2D, Input\n",
    "from keras import backend as K\n",
    "from keras.models import load_model\n",
    "import pickle\n",
    "import pandas as pd\n",
    "import re\n",
    "import numpy as np\n",
    "import random\n",
    "from keras.utils.vis_utils import plot_model\n",
    "import keras.callbacks\n",
    "import matplotlib.pyplot as plt\n",
    "from sklearn.manifold import TSNE\n",
    "from sklearn import datasets, linear_model\n",
    "import seaborn as sns\n",
    "from numpy.random import seed; seed(123)\n",
    "from tensorflow import set_random_seed; set_random_seed(123)\n",
    "from sklearn.metrics import roc_auc_score\n",
    "from statsmodels.formula.api import ols\n",
    "from statsmodels.stats.anova import anova_lm\n",
    "from scipy.stats import kruskal\n",
    "from scipy.stats import ttest_ind\n",
    "from sklearn.tree import DecisionTreeRegressor"
   ]
  },
  {
   "cell_type": "code",
   "execution_count": null,
   "metadata": {},
   "outputs": [],
   "source": [
    "##### load data #####\n",
    "processed_data = pickle.load( open( \"result_04_processed_data_no_scale.obj\", \"rb\" ) )\n",
    "cytof_files = processed_data[\"cytof_files\"]\n",
    "cytof_files.to_csv(\"result_05_cytof_files.csv\")\n",
    "expr_list = processed_data[\"expr_list\"]\n",
    "\n",
    "r1 = [t1==t1 for t1 in cytof_files.CMV_Ab] \n",
    "cytof_files = cytof_files.loc[r1,:]\n",
    "expr_list = expr_list[r1]\n",
    "print(expr_list.shape)\n"
   ]
  },
  {
   "cell_type": "code",
   "execution_count": null,
   "metadata": {},
   "outputs": [],
   "source": [
    "##### Make input for x and y #####\n",
    "\n",
    "y = cytof_files.CMV_Ab.values> 2\n",
    "x = expr_list"
   ]
  },
  {
   "cell_type": "code",
   "execution_count": null,
   "metadata": {},
   "outputs": [],
   "source": [
    "# look at CMV_Ab distribution\n",
    "plt.hist(cytof_files.CMV_Ab.values)"
   ]
  },
  {
   "cell_type": "code",
   "execution_count": null,
   "metadata": {},
   "outputs": [],
   "source": [
    "##### look at age distribution #####\n",
    "sns.stripplot(x=\"study_accession\", y=\"age\", data=cytof_files,\n",
    "              size=4, jitter=True, edgecolor=\"gray\")"
   ]
  },
  {
   "cell_type": "code",
   "execution_count": null,
   "metadata": {},
   "outputs": [],
   "source": [
    "##### split train, validation and test######\n",
    "train_id = [i for i in range(len(x)) if cytof_files.study_accession.iloc[i] not in [\"SDY515\",\"SDY519\"]]\n",
    "valid_id = [i for i in range(len(x)) if cytof_files.study_accession.iloc[i]==\"SDY515\"]\n",
    "test_id = [i for i in range(len(x)) if cytof_files.study_accession.iloc[i]==\"SDY519\"]\n",
    "\n",
    "x_train = x[train_id]\n",
    "x_valid = x[valid_id]\n",
    "x_test = x[test_id]\n",
    "\n",
    "y_train = y[train_id]\n",
    "y_valid = y[valid_id]\n",
    "y_test = y[test_id]"
   ]
  },
  {
   "cell_type": "code",
   "execution_count": null,
   "metadata": {},
   "outputs": [],
   "source": [
    "##### define model #####\n",
    "model_input = Input(shape=x_train[0].shape)\n",
    "model_output = Conv2D(3, kernel_size=(1, x_train.shape[2]),\n",
    "                 activation=None)(model_input)\n",
    "model_output = BatchNormalization()(model_output)\n",
    "model_output = Activation(\"relu\")(model_output)\n",
    "#model_output = Dropout(0.3)(model_output)\n",
    "\n",
    "model_output = Conv2D(3, (1, 1), activation=None)(model_output)\n",
    "model_output = BatchNormalization()(model_output)\n",
    "model_output = Activation(\"relu\")(model_output)\n",
    "\n",
    "model_output = AveragePooling2D(pool_size=(10000, 1))(model_output)\n",
    "model_output = Flatten()(model_output)\n",
    "\n",
    "model_output = Dense(3, activation=None)(model_output)\n",
    "model_output = BatchNormalization()(model_output)\n",
    "model_output = Activation(\"relu\")(model_output)\n",
    "model_output = Dense(1, activation=None)(model_output)\n",
    "model_output = BatchNormalization()(model_output)\n",
    "model_output = Activation(\"sigmoid\")(model_output)\n",
    "\n",
    "model = keras.models.Model(inputs=[model_input],\n",
    "                           outputs=model_output)\n",
    "model.compile(loss='binary_crossentropy',\n",
    "              optimizer=keras.optimizers.Adam(lr=0.0001),\n",
    "              metrics=['accuracy'])\n",
    "\n",
    "checkpointer = keras.callbacks.ModelCheckpoint(filepath='result_05_weights.hdf5', monitor='val_loss', \n",
    "                                               verbose=0, save_best_only=True)\n",
    "earlyStop = keras.callbacks.EarlyStopping(monitor='loss', min_delta=0.00000001, patience=100, \n",
    "                                          verbose=0, mode='auto', baseline=None, restore_best_weights=True)\n",
    "\n",
    "model.fit([x_train], y_train,\n",
    "          batch_size=60,\n",
    "          epochs=10000,\n",
    "          verbose=1,\n",
    "          callbacks=[checkpointer,earlyStop],\n",
    "          validation_data=([x_valid], y_valid))"
   ]
  },
  {
   "cell_type": "code",
   "execution_count": null,
   "metadata": {
    "scrolled": true
   },
   "outputs": [],
   "source": [
    "# plot train and validation loss\n",
    "plt.plot(model.history.history['loss'])\n",
    "plt.plot(model.history.history['val_loss'])\n",
    "plt.title('model train vs validation loss')\n",
    "plt.ylabel('loss')\n",
    "plt.xlabel('epoch')\n",
    "plt.legend(['train', 'validation'], loc='upper right')\n",
    "plt.show()\n",
    "\n",
    "plt.plot(model.history.history['acc'])\n",
    "plt.plot(model.history.history['val_acc'])\n",
    "plt.title('model train vs validation accuracy')\n",
    "plt.ylabel('accuracy')\n",
    "plt.xlabel('epoch')\n",
    "plt.legend(['train', 'validation'], loc='upper right')\n",
    "plt.show()"
   ]
  },
  {
   "cell_type": "code",
   "execution_count": null,
   "metadata": {},
   "outputs": [],
   "source": [
    "##### check AUC #####\n",
    "\n",
    "best_model = load_model('result_05_weights_final.hdf5')\n",
    "\n",
    "y_true = y_test\n",
    "y_scores = best_model.predict([x_test])\n",
    "print(roc_auc_score(y_true, y_scores))\n",
    "\n",
    "with open(\"result_05_deep_learning_ROC.obj\", \"wb\") as f:\n",
    "    pickle.dump({\"true\":y_true,\"score\":y_scores}, f)\n",
    "\n",
    "y_true = y_train\n",
    "y_scores = best_model.predict([x_train])\n",
    "print(roc_auc_score(y_true, y_scores))\n",
    "\n",
    "y_true = y_valid\n",
    "y_scores = best_model.predict([x_valid])\n",
    "print(roc_auc_score(y_true, y_scores))\n"
   ]
  },
  {
   "cell_type": "code",
   "execution_count": null,
   "metadata": {},
   "outputs": [],
   "source": [
    "##### compile activation values #####\n",
    "get_layer_output = K.function([best_model.layers[0].input],\n",
    "                              [best_model.layers[3].output,\n",
    "                               best_model.layers[6].output,\n",
    "                              best_model.layers[11].output,\n",
    "                              best_model.layers[14].output])\n",
    "\n",
    "activations = [x] + get_layer_output([x])\n",
    "plot_df = cytof_files[[\"age\",\"study_accession\"]]\n",
    "plot_df[\"age\"] = plot_df[\"age\"]>35\n",
    "layer_name = [\"input\",\"first_cov\",\"second_con\",\n",
    "              \"dense_layer\",\n",
    "              \"prediction\"]\n",
    "for i in range(len(activations)):\n",
    "    if(len(activations[i].shape)>1):\n",
    "        a1 = tuple(range(1,len(activations[i].shape)))\n",
    "        activations[i] = np.average(activations[i], \n",
    "                                    axis = a1)\n",
    "    plot_df[layer_name[i]] = activations[i]\n",
    "\n",
    "plot_df.head()"
   ]
  },
  {
   "cell_type": "code",
   "execution_count": null,
   "metadata": {},
   "outputs": [],
   "source": [
    "##### plot and test batch effects in layers #####\n",
    "p_value = []\n",
    "for i in range(2,plot_df.shape[1]):\n",
    "    p = sns.stripplot(x=\"study_accession\", y=plot_df.columns[i], \n",
    "                  data=plot_df,size=4, \n",
    "                  jitter=True, edgecolor=\"gray\")\n",
    "    p.set_xticklabels(p.get_xticklabels(), rotation=(360-45),\n",
    "                     ha='left')\n",
    "    p.get_figure()\n",
    "    plt.savefig((\"result_05_batch%d.pdf\")%i)\n",
    "    plt.show()   \n",
    "    t1, t2 = kruskal(*[group[plot_df.columns[i]].values for name, \n",
    "                      group in plot_df.groupby(\"study_accession\")])\n",
    "    p_value = p_value + [t2]\n",
    "\n",
    "p_value = [i*5 for i in p_value]\n",
    "p_value = {\n",
    "    \"layer\" : layer_name,\n",
    "    \"p_value\": p_value\n",
    "}\n",
    "p_value = pd.DataFrame(p_value)\n",
    "p_value[\"negLogP\"] = -1*np.log10(p_value.p_value)\n",
    "p = sns.barplot(x = \"layer\", y = \"negLogP\", data=p_value)\n",
    "p.get_figure()\n",
    "plt.savefig((\"result_05_batch_P.pdf\"))  \n",
    "\n",
    "display(p_value)"
   ]
  },
  {
   "cell_type": "code",
   "execution_count": null,
   "metadata": {},
   "outputs": [],
   "source": []
  },
  {
   "cell_type": "code",
   "execution_count": null,
   "metadata": {},
   "outputs": [],
   "source": [
    "##### extract activation value #####\n",
    "X = x_test#[0:1]\n",
    "print(X.shape)\n",
    "get_3rd_layer_output = K.function([best_model.layers[0].input],\n",
    "                                  [best_model.layers[3].output])\n",
    "third_layer_output = get_3rd_layer_output([X])[0]\n",
    "third_layer_output = (third_layer_output[:,:,:,0].\n",
    "         reshape(third_layer_output.shape[0]*third_layer_output.shape[1]))\n",
    "plt.hist(third_layer_output)\n",
    "print(third_layer_output.shape)\n",
    "\n",
    "get_6th_layer_output = K.function([best_model.layers[0].input],\n",
    "                                  [best_model.layers[6].output])\n",
    "sixth_layer_output = get_6th_layer_output([X])[0]"
   ]
  },
  {
   "cell_type": "code",
   "execution_count": null,
   "metadata": {},
   "outputs": [],
   "source": [
    "##### build decision tree #####\n",
    "\n",
    "from sklearn.externals.six import StringIO  \n",
    "from IPython.display import Image  \n",
    "from sklearn.tree import export_graphviz\n",
    "import pydotplus\n",
    "\n",
    "X2 = X.reshape((X.shape[0]*X.shape[1],27))\n",
    " \n",
    "regr_1 = DecisionTreeRegressor(max_depth=4)\n",
    "regr_1.fit(X2, third_layer_output)\n",
    "\n",
    "dot_data = StringIO()\n",
    "export_graphviz(regr_1, out_file=dot_data, \n",
    "                feature_names= processed_data[\"marker_names\"],\n",
    "                filled=True, rounded=True,\n",
    "                special_characters=True)\n",
    "graph = pydotplus.graph_from_dot_data(dot_data.getvalue())  \n",
    "Image(graph.create_png())"
   ]
  },
  {
   "cell_type": "code",
   "execution_count": null,
   "metadata": {},
   "outputs": [],
   "source": [
    "##### plot cell percentage for a leaf in the decision tree #####\n",
    "pred = regr_1.predict(X=X2)\n",
    "leaf = regr_1.apply(X2)\n",
    "max_leaf = [leaf[np.argmin(pred)]]\n",
    "leaf = np.isin(leaf,max_leaf)\n",
    "leaf = leaf.reshape(X.shape[0],X.shape[1])\n",
    "leaf = np.mean(leaf, 1)\n",
    "leaf_CMV = pd.DataFrame({\"leaf\":leaf,\"CMV\":y_test})\n",
    "sns.boxplot(x=\"CMV\", y=\"leaf\", data=leaf_CMV)\n",
    "ttest_ind(leaf_CMV.leaf[leaf_CMV.CMV==1],\n",
    "          leaf_CMV.leaf[leaf_CMV.CMV==0], \n",
    "          equal_var = False)"
   ]
  },
  {
   "cell_type": "code",
   "execution_count": null,
   "metadata": {},
   "outputs": [],
   "source": []
  },
  {
   "cell_type": "code",
   "execution_count": null,
   "metadata": {},
   "outputs": [],
   "source": []
  },
  {
   "cell_type": "code",
   "execution_count": null,
   "metadata": {},
   "outputs": [],
   "source": []
  },
  {
   "cell_type": "code",
   "execution_count": null,
   "metadata": {},
   "outputs": [],
   "source": []
  }
 ],
 "metadata": {
  "kernelspec": {
   "display_name": "CyTOF_DL",
   "language": "python",
   "name": "cytof_dl"
  },
  "language_info": {
   "codemirror_mode": {
    "name": "ipython",
    "version": 3
   },
   "file_extension": ".py",
   "mimetype": "text/x-python",
   "name": "python",
   "nbconvert_exporter": "python",
   "pygments_lexer": "ipython3",
   "version": "3.6.7"
  }
 },
 "nbformat": 4,
 "nbformat_minor": 1
}
