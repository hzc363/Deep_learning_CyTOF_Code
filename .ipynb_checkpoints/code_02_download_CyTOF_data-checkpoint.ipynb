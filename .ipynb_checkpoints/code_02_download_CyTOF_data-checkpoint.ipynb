{
 "cells": [
  {
   "cell_type": "code",
   "execution_count": null,
   "metadata": {},
   "outputs": [],
   "source": [
    "import sys\n",
    "import os\n",
    "import pandas as pd\n",
    "import urllib\n",
    "\n",
    "# Set the Python path to the location of the directory containing \"immport_download.py\"\n",
    "immport_download_code = '/home/huz/deep_learning_CyTOF/bin'\n",
    "sys.path.insert(0,immport_download_code)\n",
    "os.chdir(immport_download_code)\n",
    "\n",
    "import immport_download"
   ]
  },
  {
   "cell_type": "code",
   "execution_count": null,
   "metadata": {},
   "outputs": [],
   "source": [
    "cytof_files = pd.read_csv(\"../result_01_cytof_file_info.csv\")\n",
    "cytof_files.head()"
   ]
  },
  {
   "cell_type": "code",
   "execution_count": null,
   "metadata": {},
   "outputs": [],
   "source": [
    "user_name = \"your_immport_user_name\"\n",
    "password = \"your_immport_password\"\n",
    "output_directory = \"../CyTOF_data\"\n",
    "token = immport_download.request_immport_token(user_name, password)\n",
    "\n",
    "file_info = pd.DataFrame()\n",
    "for sdy in cytof_files.study_accession.unique():\n",
    "    r = immport_download.api(\"https://api.immport.org/data/query/result\"+\n",
    "                         \"/filePath?studyAccession=\"+sdy+\n",
    "                         \"&measurementTechnique=CyTOF\",\n",
    "                         token)\n",
    "    df = pd.read_json(r)\n",
    "    df = df[df['fileDetail'] == \"CyTOF result\"]\n",
    "    df_fcs = df[['studyAccession','filePath']]\n",
    "    file_info = file_info.append(df_fcs,ignore_index=True )\n",
    "    print(file_info.shape)\n",
    "\n",
    "unique_file_paths = file_info.filePath.unique()\n",
    "unique_fcs_paths = [path for path in unique_file_paths \n",
    "                    if path.endswith((\".fcs\",\".FCS\"))]\n",
    "len(unique_fcs_paths)\n"
   ]
  },
  {
   "cell_type": "code",
   "execution_count": null,
   "metadata": {},
   "outputs": [],
   "source": [
    "##### skip fcs files that have already exist\n",
    "unique_fcs_base = [os.path.basename(t1) for t1 in unique_fcs_paths]\n",
    "existing_fcs = os.listdir(output_directory)\n",
    "unique_fcs_paths =  [unique_fcs_paths[i] for i in range(0,len(unique_fcs_paths)) if unique_fcs_base[i] not in existing_fcs]"
   ]
  },
  {
   "cell_type": "code",
   "execution_count": null,
   "metadata": {},
   "outputs": [],
   "source": [
    "for i in range(0,len(unique_fcs_paths)):\n",
    "    print(\"Downloading: \",unique_fcs_paths[i])\n",
    "    immport_download.download_file(user_name,password,\n",
    "                                    unique_fcs_paths[i],output_directory)"
   ]
  },
  {
   "cell_type": "code",
   "execution_count": null,
   "metadata": {},
   "outputs": [],
   "source": []
  }
 ],
 "metadata": {
  "kernelspec": {
   "display_name": "CyTOF_DL",
   "language": "python",
   "name": "cytof_dl"
  },
  "language_info": {
   "codemirror_mode": {
    "name": "ipython",
    "version": 3
   },
   "file_extension": ".py",
   "mimetype": "text/x-python",
   "name": "python",
   "nbconvert_exporter": "python",
   "pygments_lexer": "ipython3",
   "version": "3.6.7"
  }
 },
 "nbformat": 4,
 "nbformat_minor": 1
}
