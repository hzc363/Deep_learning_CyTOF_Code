{
 "cells": [
  {
   "cell_type": "code",
   "execution_count": null,
   "metadata": {},
   "outputs": [],
   "source": [
    "import numpy as np\n",
    "import scipy as sp\n",
    "import pandas as pd\n",
    "import rpy2 as rp\n",
    "from rpy2.robjects.packages import importr\n",
    "import os \n",
    "import rpy2.robjects as ro\n",
    "import pickle\n",
    "\n",
    "# import R's \"flowCore\" package\n",
    "utils = importr('flowCore')"
   ]
  },
  {
   "cell_type": "code",
   "execution_count": null,
   "metadata": {},
   "outputs": [],
   "source": [
    "# check if all files are downloaded\n",
    "cytof_files = pd.read_csv(\"result_01_cytof_file_info.csv\")\n",
    "existing_fcs = os.listdir(\"CyTOF_data\")\n",
    "missing_fcs = [t1 for t1 in cytof_files.name if t1 not in existing_fcs]\n",
    "print(missing_fcs)\n",
    "fn = [os.path.join(os.getcwd(),\"CyTOF_data\",f) for f in cytof_files.name]\n",
    "print(len(fn))"
   ]
  },
  {
   "cell_type": "code",
   "execution_count": null,
   "metadata": {
    "scrolled": true
   },
   "outputs": [],
   "source": [
    "r = rp.robjects.r\n",
    "expr_list = []\n",
    "for i in range(0,len(fn)):\n",
    "    fn_i = fn[i]\n",
    "    r_code = (\"library(flowCore);\"+\n",
    "          \"library(MetaCyto);\"+\n",
    "          \"fn = '\"+\n",
    "          fn_i+\"'; \"\n",
    "          \"fcs = read.FCS(fn,truncate_max_range = FALSE);\"+\n",
    "          \"expr = fcs@exprs;\"+\n",
    "          \"markers = markerFinder(fcs);\"+\n",
    "          \"colnames(expr) = markers;\"+\n",
    "          \"expr = as.data.frame(expr);\"+\n",
    "         \"expr = expr[sample(1:nrow(expr),10000,replace = TRUE),]\")\n",
    "    expr =  r(r_code)\n",
    "    expr_list.append(expr)\n",
    "    print ((i+1),end=', ')\n",
    "    "
   ]
  },
  {
   "cell_type": "code",
   "execution_count": null,
   "metadata": {},
   "outputs": [],
   "source": [
    "with open(\"result_03_sampled_data.obj\", \"wb\") as f:\n",
    "    pickle.dump(expr_list, f)"
   ]
  },
  {
   "cell_type": "code",
   "execution_count": null,
   "metadata": {},
   "outputs": [],
   "source": [
    "\n"
   ]
  },
  {
   "cell_type": "code",
   "execution_count": null,
   "metadata": {},
   "outputs": [],
   "source": []
  },
  {
   "cell_type": "code",
   "execution_count": null,
   "metadata": {},
   "outputs": [],
   "source": []
  }
 ],
 "metadata": {
  "kernelspec": {
   "display_name": "CyTOF_DL",
   "language": "python",
   "name": "cytof_dl"
  },
  "language_info": {
   "codemirror_mode": {
    "name": "ipython",
    "version": 3
   },
   "file_extension": ".py",
   "mimetype": "text/x-python",
   "name": "python",
   "nbconvert_exporter": "python",
   "pygments_lexer": "ipython3",
   "version": "3.6.7"
  }
 },
 "nbformat": 4,
 "nbformat_minor": 1
}
