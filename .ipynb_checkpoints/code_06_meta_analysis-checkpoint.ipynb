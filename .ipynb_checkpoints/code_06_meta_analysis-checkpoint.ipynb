{
 "cells": [
  {
   "cell_type": "code",
   "execution_count": null,
   "metadata": {},
   "outputs": [],
   "source": [
    "library(\"MetaCyto\")\n",
    "library(flowCore)\n",
    "library(dplyr)\n",
    "library(ggplot2)\n",
    "library(tidyr)"
   ]
  },
  {
   "cell_type": "code",
   "execution_count": null,
   "metadata": {},
   "outputs": [],
   "source": [
    "##### get fcs markers #####\n",
    "cytof_files = read.csv(\"result_05_cytof_files.csv\")\n",
    "cytof_files$name = file.path(\"CyTOF_data\",cytof_files$name)\n",
    "file_info = cytof_files%>%\n",
    "    select(fcs_files = name, SDY = study_accession)%>%\n",
    "    mutate(marker = NA)\n",
    "\n",
    "for(i in 1:nrow(file_info)){\n",
    "    f = read.FCSheader(file_info$fcs_files[i])\n",
    "    f = f[[1]]\n",
    "    f = f[grepl(\"\\\\$P.*[NS]\",names(f))]\n",
    "    f = unlist(f)\n",
    "    f = paste0(f,collapse = \"_\")\n",
    "    file_info$marker[i]=f\n",
    "}\n"
   ]
  },
  {
   "cell_type": "code",
   "execution_count": null,
   "metadata": {},
   "outputs": [],
   "source": [
    "dim(cytof_files)\n",
    "length(unique(cytof_files$subject_accession))"
   ]
  },
  {
   "cell_type": "code",
   "execution_count": null,
   "metadata": {},
   "outputs": [],
   "source": [
    "##### define batch #####\n",
    "batch_df = file_info%>%\n",
    "    select(SDY,marker)%>%\n",
    "    unique()%>%\n",
    "    group_by(SDY)%>%\n",
    "    mutate(study_id = paste(SDY,\"panel\", 1:n(),sep=\"_\"))\n",
    "\n",
    "\n",
    "file_info = inner_join(file_info, batch_df, by = c(\"SDY\",\"marker\"))\n",
    "file_info = file_info%>%select(fcs_files,study_id)\n",
    "print(file_info[1:10,])"
   ]
  },
  {
   "cell_type": "code",
   "execution_count": null,
   "metadata": {
    "scrolled": true
   },
   "outputs": [],
   "source": [
    "##### get sample data #####\n",
    "sample_info = cytof_files%>%mutate(CMV = CMV_Ab>2)%>%select(fcs_files = name, CMV)"
   ]
  },
  {
   "cell_type": "code",
   "execution_count": null,
   "metadata": {},
   "outputs": [],
   "source": [
    "##### preprocessing #####\n",
    "preprocessing.batch(inputMeta= file_info,\n",
    "                    assay=\"CyTOF\",\n",
    "                    b=1/5,\n",
    "                    outpath=\"preprocess_output\",\n",
    "                    excludeTransformParameters=c(\"FSC-A\",\"FSC-W\",\"FSC-H\",\"Time\",\"Cell_length\"))"
   ]
  },
  {
   "cell_type": "code",
   "execution_count": null,
   "metadata": {},
   "outputs": [],
   "source": [
    "##### organize marker #####\n",
    "files=list.files(\"preprocess_output\",pattern=\"processed_sample\",recursive=T,full.names=T)\n",
    "panel_info=collectData(files,longform=F)\n",
    "PS=panelSummary(panel_info,cluster=F,folder = \".\") \n",
    "\n",
    "ab_names=sort(rownames(PS))\n",
    "newname=c('(BA138)DD','BEAD','CCR6','CCR7','CCR7','CD11B','CD11C','CD123',\n",
    "          'CD127','CD127','CD14','CD14','CD16','CD16','CD161','CD161','CD19',\n",
    "          'CD19','CD20','CD20','CD24','CD24','CD25','CD25','CD27','CD27','CD28',\n",
    "          'CD28','CD3','CD3','CD33','CD33','CD38','CD38','CD4','CD4','CD45RA','CD45RA','CD56',\n",
    "          'CD56','CD57','CD8','CD8','CD85J','CD85J','CD86','CD94','CD94','CELL_LENGTH','CXCR3','CXCR5',\n",
    "          'DEAD','DEAD','DNA1','DNA1','DNA2','DNA2','HLADR','HLADR','ICOS','IGD','IGD','PD-1',\n",
    "          'SAMPLE_ID','TCRGD','TCRGD','TIME')\n",
    "nameUpdator(ab_names,newname,files)\n",
    "\n",
    "panel_info=collectData(files,longform=F)\n",
    "PS=panelSummary(panel_info,cluster=F,folder = \".\") \n"
   ]
  },
  {
   "cell_type": "code",
   "execution_count": null,
   "metadata": {},
   "outputs": [],
   "source": [
    "\n"
   ]
  },
  {
   "cell_type": "code",
   "execution_count": null,
   "metadata": {},
   "outputs": [],
   "source": [
    "# organize cell definitions\n",
    "cluster_label=c(\"Memory B cells\"=\"CD14-|CD33-|CD3-|CD19+|CD20+|CD24+|CD38-\", #memory B cells\n",
    "                \"CD8+ T-EM cells\"=\"CD14-|CD33-|CD3+|CD8+|CCR7-|CD45RA-\", #effector memory CD8+ T cells\n",
    "                \"CD4+ T-CM cells\"=\"CD14-|CD33-|CD3+|CD4+|CCR7+|CD45RA-\", #central memory CD4+ T cells\n",
    "                \"Effector CD8+ T cells\"=\"CD14-|CD33-|CD3+|CD8+|CCR7-|CD45RA+\", #effector CD8+ T Cells\n",
    "                \"NKT cells\"=\"CD14-|CD33-|CD3+|CD56+\", #NKT cells\n",
    "                \"CD8+ CD94+ NKT cells\"=\"CD14-|CD33-|CD3+|CD56+|CD8+|CD94+\", #NKT cells\n",
    "                \"Plasmablasts\"=\"CD14-|CD33-|CD3-|CD20-|CD27+|CD38+\", #plasmablasts\n",
    "                \"Conv1 F1_max\"=\"CD45RA+|CD28-|CD33-\", #Conv1 F1_max_0.0093\n",
    "                \"Conv1 F1_min\"=\"CD45RA-|CD28+|CD33+\",\n",
    "                \"Conv1 F2_max\"=\"CD3+|CD45RA-|CD8+\",\n",
    "                \"Conv1 F2_min\"=\"CD3-|HLADR+|CD56-\",\n",
    "                \"Conv1 F3_max\"=\"CD20-|HLADR-|CD45RA-\",\n",
    "                \"Conv1 F3_min\"=\"CD20+|CD27-|CCR7+\", #Conv1 F3_min_0.0425\n",
    "                \"Conv2 F1_max\"=\"CD8+|CD94+|CD3+\", #Conv2 F1_max_0.0\n",
    "                \"Conv2 F1_min\"=\"CD8-|CD20-|CD27+\", #Conv2 F1_min_0.0139\n",
    "                \"Conv2 F2_max\"=\"CD8-|CD20-|CD56-\", #Conv2 F2_max_0.0\n",
    "                \"Conv2 F2_min\"=\"CD8+|CD94+|CD28-\", #Conv2 F2_min_0.0\n",
    "                \"Conv2 F3_max\"=\"CD3+|CD45RA-|CD94+\",\n",
    "                \"Conv2 F3_min\"=\"CD3-|CD94-|CD33+\")\n",
    "searchCluster.batch(preprocessOutputFolder=\"preprocess_output\",\n",
    "              outpath=\"search_output\",\n",
    "              clusterLabel=cluster_label)"
   ]
  },
  {
   "cell_type": "code",
   "execution_count": null,
   "metadata": {},
   "outputs": [],
   "source": [
    "##### statistical analysis #####\n",
    "\n",
    "# Collect Summary statistics generated \n",
    "files=list.files(\"search_output\",pattern=\"cluster_stats_in_each_sample\",recursive=T,full.names=T)\n",
    "fcs_stats=collectData(files,longform=T)\n",
    "\n",
    "\n",
    "\n",
    "all_data=inner_join(fcs_stats,sample_info,by=\"fcs_files\")\n",
    "t1 = data.frame(label = cluster_label, cell_name = names(cluster_label))\n",
    "all_data = inner_join(all_data,t1)\n",
    "\n",
    "plot_df = all_data %>% filter(grepl(\"max|cells|blast\",cell_name))\n",
    "GA=glmAnalysis(value=\"value\",variableOfInterst=\"CMV\",parameter=\"fraction\",\n",
    "               otherVariables=NULL,studyID=\"study_id\",label=\"cell_name\",\n",
    "               data=plot_df,CILevel=0.95,ifScale=c(T,F))\n",
    "GA=GA[order(GA$Effect_size),]\n",
    "\n",
    "print(GA)\n",
    "\n",
    "# plot the results\n",
    "plotGA(GA)\n",
    "\n"
   ]
  },
  {
   "cell_type": "code",
   "execution_count": null,
   "metadata": {},
   "outputs": [],
   "source": []
  },
  {
   "cell_type": "code",
   "execution_count": null,
   "metadata": {},
   "outputs": [],
   "source": [
    "# Analyze on cluster  in detail  \n",
    "all_data = all_data %>% mutate(study_id = gsub(\"_.*\",\"\",study_id))\n",
    "\n",
    "pdf(\"result_09_meta_analysis.pdf\", 5, 5)\n",
    "for(i in 1: length(cluster_label)){\n",
    "    L=cluster_label[i]\n",
    "    dat=subset(all_data,all_data$parameter_name==\"fraction\"&\n",
    "             all_data$label==L)\n",
    "    MA=metaAnalysis(value=\"value\",variableOfInterst=\"CMV\",main=names(cluster_label)[i],\n",
    "                  otherVariables=NULL,studyID=\"study_id\",\n",
    "                  data=dat,CILevel=0.95,ifScale=c(T,F))\n",
    "}\n",
    "dev.off()\n",
    "\n"
   ]
  },
  {
   "cell_type": "code",
   "execution_count": null,
   "metadata": {},
   "outputs": [],
   "source": [
    "##### plot CD8+ CD3+ CD94+ cell in all study #####\n",
    "all_data = all_data %>% mutate(study_id = gsub(\"_.*\",\"\",study_id))\n",
    "plot_df = all_data %>% filter(parameter_name==\"fraction\" & all_data$label==\"CD14-|CD33-|CD3-|CD20-|CD27+|CD38+\")%>%\n",
    "    filter(!is.na(CMV))\n",
    "p = ggplot(plot_df, aes(x = study_id, y = value, fill = CMV))+\n",
    "    geom_boxplot()+theme_bw()+ theme(axis.text.x = element_text(angle = 45, hjust = 1))\n",
    "pdf(\"result_09_box_plot.pdf\",width= 5, height = 3)\n",
    "plot(p)\n",
    "dev.off()"
   ]
  },
  {
   "cell_type": "code",
   "execution_count": null,
   "metadata": {},
   "outputs": [],
   "source": [
    "##### plot 2D #####\n",
    "f = read.FCS(\"preprocess_output/SDY519_panel_2.fcs\")\n",
    "f = as.data.frame(f@exprs)\n",
    "\n",
    "pdf(\"result_09_2D_plots.pdf\",height=2,width= 3)\n",
    "p = ggplot(f, aes(x=CD3, y= CD8)) + \n",
    "  stat_binhex(bins=200)+\n",
    "  scale_fill_distiller(palette = \"RdBu\",limits=c(0,200))+\n",
    "  theme_bw()\n",
    "plot(p)\n",
    "f1 = f%>%filter(CD3>2 & CD8>3 )\n",
    "\n",
    "p = ggplot(f1, aes(x=CD94,y = DNA1)) + \n",
    "  stat_binhex(bins=200)+\n",
    "  scale_fill_distiller(palette = \"RdBu\",limits=c(0,200))+\n",
    "  theme_bw()\n",
    "plot(p)\n",
    "f2 = f1%>%filter(DNA1>3 & CD94>1 )\n",
    "\n",
    "p = ggplot(f1, aes(x=DNA1,y = CD27)) + \n",
    "  stat_binhex(bins=200)+\n",
    "  scale_fill_distiller(palette = \"RdBu\",limits=c(0,200))+\n",
    "  theme_bw()\n",
    "plot(p)\n",
    "f2 = f1%>%filter(DNA1>3 & CD94>1 )\n",
    "\n",
    "\n",
    "p = ggplot(f2, aes(x=CCR7,y = CD45RA)) + \n",
    "  stat_binhex(bins=200)+\n",
    "  scale_fill_distiller(palette = \"RdBu\",limits=c(0,500))+\n",
    "  theme_bw()\n",
    "plot(p)\n",
    "\n",
    "\n",
    "p = ggplot(f1, aes(x=CCR7,y = CD45RA)) + \n",
    "  stat_binhex(bins=200)+\n",
    "  scale_fill_distiller(palette = \"RdBu\",limits=c(0,500))+\n",
    "  theme_bw()\n",
    "plot(p)\n",
    "\n",
    "\n",
    "p = ggplot(f2, aes(x=CD56,y = CD16)) + \n",
    "  stat_binhex(bins=200)+\n",
    "  scale_fill_distiller(palette = \"RdBu\",limits=c(0,500))+\n",
    "  theme_bw()\n",
    "plot(p)\n",
    "\n",
    "dev.off()\n",
    "\n"
   ]
  },
  {
   "cell_type": "code",
   "execution_count": null,
   "metadata": {},
   "outputs": [],
   "source": []
  },
  {
   "cell_type": "code",
   "execution_count": null,
   "metadata": {},
   "outputs": [],
   "source": []
  },
  {
   "cell_type": "code",
   "execution_count": null,
   "metadata": {},
   "outputs": [],
   "source": []
  },
  {
   "cell_type": "code",
   "execution_count": null,
   "metadata": {},
   "outputs": [],
   "source": [
    "##### plot histogram #####\n",
    "f1_plot = f1%>% mutate(gated = CD94>1)\n",
    "f1_plot = f1_plot%>%select(-TIME)%>%gather(key = \"marker\",value = \"value\", -gated)\n",
    "p = ggplot(f1_plot)+\n",
    "    geom_histogram(aes(x = value, y = ..density..,fill = gated), alpha = 0.5,position='identity')+\n",
    "    facet_wrap(~marker, scale=\"free\")\n",
    "plot(p)"
   ]
  },
  {
   "cell_type": "code",
   "execution_count": null,
   "metadata": {},
   "outputs": [],
   "source": [
    "\n",
    "\n",
    "\n"
   ]
  },
  {
   "cell_type": "code",
   "execution_count": null,
   "metadata": {},
   "outputs": [],
   "source": []
  },
  {
   "cell_type": "code",
   "execution_count": null,
   "metadata": {},
   "outputs": [],
   "source": [
    "##### get all 24 cell definitions #####\n",
    "cluster_label=c(\"B cells\"=\"CD14- CD33- CD3- CD19+ CD20+\",\n",
    "                \"CD16- monocytes\"= \"CD14+ CD33+ CD16-\",\n",
    "                \"CD16+ monocytes\"= \"CD14+ CD33+ CD16+\",\n",
    "                \"CD4+ T cells\"='CD14- CD33- CD3+ CD4+',\n",
    "                \"CD8+ T cells\"='CD14- CD33- CD3+ CD8+',\n",
    "                \"central memory CD4+ T cells\"='CD14- CD33- CD3+ CD4+ CCR7+ CD45RA-',\n",
    "                'central memory CD8+ T cells'='CD14- CD33- CD3+ CD8+ CCR7+ CD45RA-',\n",
    "                'effector CD4+ T cells'='CD14- CD33- CD3+ CD4+ CCR7- CD45RA+',\n",
    "                'effector CD8+ T cells'='CD14- CD33- CD3+ CD8+ CCR7- CD45RA+',\n",
    "                'effector memory CD4+ T cells'='CD14- CD33- CD3+ CD4+ CCR7- CD45RA-',\n",
    "                'effector memory CD8+ T cells'='CD14- CD33- CD3+ CD8+ CCR7- CD45RA-',\n",
    "                'gamma-delta T cells'='CD14- CD33- TCRgd+',\n",
    "                'lymphocytes'='CD14- CD33-',\n",
    "                'memory B cells'='CD14- CD33- CD3- CD19+ CD20+ CD24+ CD38-',\n",
    "                'monocytes'='CD14+ CD33+',\n",
    "                'naive B cells'='CD14- CD33- CD3- CD19+ CD20+ CD24- CD38+',\n",
    "                'naive CD4+ T cells'='CD14- CD33- CD3+ CD4+ CCR7+ CD45RA+',\n",
    "                'naive CD8+ T cells'='CD14- CD33- CD3+ CD8+ CCR7+ CD45RA+',\n",
    "                'NK cells'='CD14- CD33- CD3- CD16+ CD56+',\n",
    "                'NKT cells'='CD14- CD33- CD3+ CD56+',\n",
    "                'plasmablasts'='CD14- CD33- CD3- CD20- CD27+ CD38+',\n",
    "                'T cells'='CD14- CD33- CD3+',\n",
    "                'transitional B cells'='CD14- CD33- CD3- CD19+ CD20+ CD24+ CD38+',\n",
    "                'Tregs'='CD14- CD33- CD3+ CD4+ CD25+ CD127-')\n",
    "cluster_label = gsub(\" \", \"|\", cluster_label)\n",
    "\n",
    "searchCluster.batch(preprocessOutputFolder=\"preprocess_output\",\n",
    "              outpath=\"search_output_2\",\n",
    "              clusterLabel=cluster_label)\n",
    "\n"
   ]
  },
  {
   "cell_type": "code",
   "execution_count": null,
   "metadata": {},
   "outputs": [],
   "source": [
    "# Collect Summary statistics generated \n",
    "files=list.files(\"search_output\",pattern=\"cluster_stats_in_each_sample\",recursive=T,full.names=T)\n",
    "fcs_stats=collectData(files,longform=T)%>%unique()\n",
    "\n",
    "t1 = data.frame(label = cluster_label, cell_name = names(cluster_label))\n",
    "fcs_stats = inner_join(fcs_stats,t1)\n",
    "\n",
    "fcs_stats = fcs_stats %>% filter(parameter_name== \"fraction\")%>%\n",
    "    mutate(CN = paste(cell_name, parameter_name, sep = \"_\"))%>%\n",
    "    select(fcs_files, CN, value)%>%group_by(fcs_files, CN)%>%\n",
    "    summarise(value = value[1])\n",
    "fcs_stats = spread(fcs_stats, key = CN, value = value)\n",
    "t1 = apply(fcs_stats,2,function(x){sum(is.na(x))==0})\n",
    "fcs_stats= fcs_stats[,t1]%>%as.data.frame()\n",
    "fcs_stats = mutate(fcs_stats, fcs_files = basename(fcs_files))\n",
    "fcs_stats[1:10,]\n",
    "\n",
    "write.csv(fcs_stats, \"result_06_summary_statistics.csv\", row.names= F)"
   ]
  },
  {
   "cell_type": "code",
   "execution_count": null,
   "metadata": {},
   "outputs": [],
   "source": []
  },
  {
   "cell_type": "code",
   "execution_count": null,
   "metadata": {},
   "outputs": [],
   "source": []
  },
  {
   "cell_type": "code",
   "execution_count": null,
   "metadata": {},
   "outputs": [],
   "source": []
  }
 ],
 "metadata": {
  "kernelspec": {
   "display_name": "R 3.5.2",
   "language": "R",
   "name": "ir3_5_2"
  },
  "language_info": {
   "codemirror_mode": "r",
   "file_extension": ".r",
   "mimetype": "text/x-r-source",
   "name": "R",
   "pygments_lexer": "r",
   "version": "3.5.2"
  }
 },
 "nbformat": 4,
 "nbformat_minor": 1
}
