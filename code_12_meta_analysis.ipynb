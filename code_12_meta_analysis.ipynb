{
 "cells": [
  {
   "cell_type": "code",
   "execution_count": null,
   "metadata": {},
   "outputs": [],
   "source": [
    "library(\"MetaCyto\")\n",
    "library(flowCore)\n",
    "library(dplyr)\n",
    "library(ggplot2)\n",
    "library(tidyr)"
   ]
  },
  {
   "cell_type": "code",
   "execution_count": null,
   "metadata": {},
   "outputs": [],
   "source": [
    "##### get fcs markers #####\n",
    "cytof_files = read.csv(\"result_05_cytof_files.csv\")\n",
    "cytof_files$name = file.path(\"CyTOF_data\",cytof_files$name)\n",
    "file_info = cytof_files%>%\n",
    "    select(fcs_files = name, SDY = study_accession)%>%\n",
    "    mutate(marker = NA)\n",
    "\n",
    "for(i in 1:nrow(file_info)){\n",
    "    f = read.FCSheader(file_info$fcs_files[i])\n",
    "    f = f[[1]]\n",
    "    f = f[grepl(\"\\\\$P.*[NS]\",names(f))]\n",
    "    f = unlist(f)\n",
    "    f = paste0(f,collapse = \"_\")\n",
    "    file_info$marker[i]=f\n",
    "}\n"
   ]
  },
  {
   "cell_type": "code",
   "execution_count": null,
   "metadata": {},
   "outputs": [],
   "source": [
    "dim(cytof_files)\n",
    "length(unique(cytof_files$subject_accession))"
   ]
  },
  {
   "cell_type": "code",
   "execution_count": null,
   "metadata": {},
   "outputs": [],
   "source": [
    "##### define batch #####\n",
    "batch_df = file_info%>%\n",
    "    select(SDY,marker)%>%\n",
    "    unique()%>%\n",
    "    group_by(SDY)%>%\n",
    "    mutate(study_id = paste(SDY,\"panel\", 1:n(),sep=\"_\"))\n",
    "\n",
    "\n",
    "file_info = inner_join(file_info, batch_df, by = c(\"SDY\",\"marker\"))\n",
    "file_info = file_info%>%select(fcs_files,study_id)\n",
    "print(file_info[1:10,])"
   ]
  },
  {
   "cell_type": "code",
   "execution_count": null,
   "metadata": {
    "scrolled": true
   },
   "outputs": [],
   "source": [
    "##### get sample data #####\n",
    "sample_info = cytof_files%>%mutate(CMV = CMV_Ab>2)%>%select(fcs_files = name, CMV)"
   ]
  },
  {
   "cell_type": "code",
   "execution_count": null,
   "metadata": {},
   "outputs": [],
   "source": [
    "##### preprocessing #####\n",
    "preprocessing.batch(inputMeta= file_info,\n",
    "                    assay=\"CyTOF\",\n",
    "                    b=1/5,\n",
    "                    outpath=\"preprocess_output\",\n",
    "                    excludeTransformParameters=c(\"FSC-A\",\"FSC-W\",\"FSC-H\",\"Time\",\"Cell_length\"))"
   ]
  },
  {
   "cell_type": "code",
   "execution_count": null,
   "metadata": {},
   "outputs": [],
   "source": [
    "##### organize marker #####\n",
    "files=list.files(\"preprocess_output\",pattern=\"processed_sample\",recursive=T,full.names=T)\n",
    "panel_info=collectData(files,longform=F)\n",
    "PS=panelSummary(panel_info,cluster=F,folder = \".\") \n",
    "\n",
    "ab_names=sort(rownames(PS))\n",
    "newname=c('(BA138)DD','BEAD','CCR6','CCR7','CCR7','CD11B','CD11C','CD123',\n",
    "          'CD127','CD127','CD14','CD14','CD16','CD16','CD161','CD161','CD19',\n",
    "          'CD19','CD20','CD20','CD24','CD24','CD25','CD25','CD27','CD27','CD28',\n",
    "          'CD28','CD3','CD3','CD33','CD33','CD38','CD38','CD4','CD4','CD45RA','CD45RA','CD56',\n",
    "          'CD56','CD57','CD8','CD8','CD85J','CD85J','CD86','CD94','CD94','CELL_LENGTH','CXCR3','CXCR5',\n",
    "          'DEAD','DEAD','DNA1','DNA1','DNA2','DNA2','HLADR','HLADR','ICOS','IGD','IGD','PD-1',\n",
    "          'SAMPLE_ID','TCRGD','TCRGD','TIME')\n",
    "nameUpdator(ab_names,newname,files)\n",
    "\n",
    "panel_info=collectData(files,longform=F)\n",
    "PS=panelSummary(panel_info,cluster=F,folder = \".\") \n"
   ]
  },
  {
   "cell_type": "code",
   "execution_count": null,
   "metadata": {},
   "outputs": [],
   "source": [
    "\n"
   ]
  },
  {
   "cell_type": "code",
   "execution_count": null,
   "metadata": {},
   "outputs": [],
   "source": [
    "# organize cell definitions\n",
    "cluster_label=c(\"overall_cell\"=\"CD8+|CD3+|CD94+|CD27-\",\n",
    "                 \"N CD94\"=\"CD8+|CD3+|CD94+|CD27-|CCR7+|CD45RA+\",\n",
    "                 \"E CD94\"=\"CD8+|CD3+|CD94+|CD27-|CCR7-|CD45RA+\",\n",
    "                 \"CM CD94\"=\"CD8+|CD3+|CD94+|CD27-|CCR7+|CD45RA-\",\n",
    "                 \"EM\"=\"CD8+|CD3+|CD94+|CD27-|CCR7-|CD45RA-\",\n",
    "                \"N\"=\"CD8+|CD3+|CCR7+|CD45RA+\",\n",
    "                 \"E\"=\"CD8+|CD3+|CCR7-|CD45RA+\",\n",
    "                 \"CM\"=\"CD8+|CD3+|CCR7+|CD45RA-\",\n",
    "                 \"EM\"=\"CD8+|CD3+|CCR7-|CD45RA-\")\n",
    "searchCluster.batch(preprocessOutputFolder=\"preprocess_output\",\n",
    "              outpath=\"search_output\",\n",
    "              clusterLabel=cluster_label)"
   ]
  },
  {
   "cell_type": "code",
   "execution_count": null,
   "metadata": {},
   "outputs": [],
   "source": [
    "##### statistical analysis #####\n",
    "\n",
    "# Collect Summary statistics generated \n",
    "files=list.files(\"search_output\",pattern=\"cluster_stats_in_each_sample\",recursive=T,full.names=T)\n",
    "fcs_stats=collectData(files,longform=T)\n",
    "\n",
    "\n",
    "\n",
    "all_data=inner_join(fcs_stats,sample_info,by=\"fcs_files\")\n",
    "t1 = data.frame(label = cluster_label, cell_name = names(cluster_label))\n",
    "all_data = inner_join(all_data,t1)\n",
    "\n",
    "plot_df = all_data\n",
    "GA=glmAnalysis(value=\"value\",variableOfInterst=\"CMV\",parameter=\"fraction\",\n",
    "               otherVariables=NULL,studyID=\"study_id\",label=\"cell_name\",\n",
    "               data=plot_df,CILevel=0.95,ifScale=c(T,F))\n",
    "GA=GA[order(GA$Effect_size),]\n",
    "\n",
    "print(GA)\n",
    "\n",
    "# plot the results\n",
    "plotGA(GA)\n",
    "\n"
   ]
  },
  {
   "cell_type": "code",
   "execution_count": null,
   "metadata": {},
   "outputs": [],
   "source": []
  },
  {
   "cell_type": "code",
   "execution_count": null,
   "metadata": {},
   "outputs": [],
   "source": [
    "# Analyze on cluster  in detail  \n",
    "all_data = all_data %>% mutate(study_id = gsub(\"_.*\",\"\",study_id))\n",
    "\n",
    "pdf(\"result_12_meta_analysis.pdf\", 5, 5)\n",
    "for(i in 1: length(cluster_label)){\n",
    "    L=cluster_label[i]\n",
    "    dat=subset(all_data,all_data$parameter_name==\"fraction\"&\n",
    "             all_data$label==L)\n",
    "    MA=metaAnalysis(value=\"value\",variableOfInterst=\"CMV\",main=names(cluster_label)[i],\n",
    "                  otherVariables=NULL,studyID=\"study_id\",\n",
    "                  data=dat,CILevel=0.95,ifScale=c(T,F))\n",
    "}\n",
    "dev.off()\n",
    "\n"
   ]
  },
  {
   "cell_type": "code",
   "execution_count": null,
   "metadata": {},
   "outputs": [],
   "source": [
    "##### plot CD8+ CD3+ CD94+ CD27- cell in all study #####\n",
    "all_data = all_data %>% mutate(study_id = gsub(\"_.*\",\"\",study_id))\n",
    "plot_df = all_data %>% filter(parameter_name==\"fraction\" & all_data$label==\"CD8+|CD3+|CD94+|CD27-\")%>%\n",
    "    filter(!is.na(CMV))\n",
    "p = ggplot(plot_df, aes(x = study_id, y = value, fill = CMV))+\n",
    "    geom_boxplot()+theme_bw()+ theme(axis.text.x = element_text(angle = 45, hjust = 1))\n",
    "pdf(\"result_12_box_plot.pdf\",width= 5, height = 3)\n",
    "plot(p)\n",
    "dev.off()"
   ]
  },
  {
   "cell_type": "code",
   "execution_count": null,
   "metadata": {},
   "outputs": [],
   "source": []
  },
  {
   "cell_type": "code",
   "execution_count": null,
   "metadata": {},
   "outputs": [],
   "source": []
  },
  {
   "cell_type": "code",
   "execution_count": null,
   "metadata": {},
   "outputs": [],
   "source": []
  },
  {
   "cell_type": "code",
   "execution_count": null,
   "metadata": {},
   "outputs": [],
   "source": []
  },
  {
   "cell_type": "code",
   "execution_count": null,
   "metadata": {},
   "outputs": [],
   "source": []
  },
  {
   "cell_type": "code",
   "execution_count": null,
   "metadata": {},
   "outputs": [],
   "source": []
  },
  {
   "cell_type": "code",
   "execution_count": null,
   "metadata": {},
   "outputs": [],
   "source": []
  },
  {
   "cell_type": "code",
   "execution_count": null,
   "metadata": {},
   "outputs": [],
   "source": []
  },
  {
   "cell_type": "code",
   "execution_count": null,
   "metadata": {},
   "outputs": [],
   "source": []
  },
  {
   "cell_type": "code",
   "execution_count": null,
   "metadata": {},
   "outputs": [],
   "source": []
  },
  {
   "cell_type": "code",
   "execution_count": null,
   "metadata": {},
   "outputs": [],
   "source": []
  },
  {
   "cell_type": "code",
   "execution_count": null,
   "metadata": {},
   "outputs": [],
   "source": []
  }
 ],
 "metadata": {
  "kernelspec": {
   "display_name": "R",
   "language": "R",
   "name": "ir"
  },
  "language_info": {
   "codemirror_mode": "r",
   "file_extension": ".r",
   "mimetype": "text/x-r-source",
   "name": "R",
   "pygments_lexer": "r",
   "version": "3.5.2"
  }
 },
 "nbformat": 4,
 "nbformat_minor": 1
}
